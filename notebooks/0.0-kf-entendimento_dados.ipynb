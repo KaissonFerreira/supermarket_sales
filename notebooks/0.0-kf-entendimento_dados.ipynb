{
 "cells": [
  {
   "cell_type": "markdown",
   "id": "3935cbe2-fa19-4318-9501-6823fa2a845b",
   "metadata": {},
   "source": [
    "# 0.0 Setup"
   ]
  },
  {
   "cell_type": "markdown",
   "id": "88fe201f-841e-44b6-ae58-df996193c4e0",
   "metadata": {},
   "source": [
    "## 0.1 Imports"
   ]
  },
  {
   "cell_type": "code",
   "execution_count": 69,
   "id": "85ea29f4-48be-432b-b703-db3249d6144e",
   "metadata": {},
   "outputs": [],
   "source": [
    "import pandas as pd\n",
    "import os\n",
    "from pathlib import Path\n",
    "\n",
    "import numpy as np\n",
    "\n",
    "import seaborn as sns\n",
    "import matplotlib.pyplot as plt"
   ]
  },
  {
   "cell_type": "markdown",
   "id": "7c8323ae-2b58-4aa7-8c9f-3594e2dc8a78",
   "metadata": {},
   "source": [
    "## 0.2 Path"
   ]
  },
  {
   "cell_type": "code",
   "execution_count": 21,
   "id": "f980ee79-555b-4e12-b27e-bd52ea98158c",
   "metadata": {},
   "outputs": [],
   "source": [
    "path_raw = Path.cwd().parent\n",
    "file_path = os.path.join(os.path.join(os.path.join(path_raw, 'data'), 'raw'), 'supermarket_sales.csv')"
   ]
  },
  {
   "cell_type": "markdown",
   "id": "e126bae1-8c74-4734-af0d-3418109249e0",
   "metadata": {},
   "source": [
    "## 0.3 Get Data"
   ]
  },
  {
   "cell_type": "code",
   "execution_count": 22,
   "id": "216a0b85-f1aa-441a-95ef-c1e0cb266d00",
   "metadata": {},
   "outputs": [],
   "source": [
    "data = pd.read_csv(file_path)"
   ]
  },
  {
   "cell_type": "markdown",
   "id": "12af355d-1c39-45f4-8881-47b8dc950902",
   "metadata": {},
   "source": [
    "# 1.0 Understand Data"
   ]
  },
  {
   "cell_type": "code",
   "execution_count": 48,
   "id": "ced5e19b-1d37-4933-aea1-6b180cf60be9",
   "metadata": {},
   "outputs": [],
   "source": [
    "df1 = data.copy()"
   ]
  },
  {
   "cell_type": "markdown",
   "id": "87d7c4e3-0e90-4ab1-a914-c06f76306b7d",
   "metadata": {},
   "source": [
    "## 1.1 Dimensões e tipo de dado"
   ]
  },
  {
   "cell_type": "code",
   "execution_count": 49,
   "id": "c2eb315e-f167-431f-b50b-d0b109d13d15",
   "metadata": {},
   "outputs": [
    {
     "name": "stdout",
     "output_type": "stream",
     "text": [
      "Nº columns: 17\n",
      "Nº Rows: 1000\n"
     ]
    }
   ],
   "source": [
    "print(f\"Nº columns: {df1.shape[1]}\\nNº Rows: {df1.shape[0]}\")"
   ]
  },
  {
   "cell_type": "markdown",
   "id": "9c90795d-c0dc-414e-9ba7-8b2dbe344097",
   "metadata": {},
   "source": [
    "## 1.2 Missing Data"
   ]
  },
  {
   "cell_type": "code",
   "execution_count": 50,
   "id": "b673f3a6-aaf0-4a36-9902-9234e30205c3",
   "metadata": {},
   "outputs": [
    {
     "data": {
      "text/plain": [
       "Invoice ID                 0\n",
       "Branch                     0\n",
       "City                       0\n",
       "Customer type              0\n",
       "Gender                     0\n",
       "Product line               0\n",
       "Unit price                 0\n",
       "Quantity                   0\n",
       "Tax 5%                     0\n",
       "Total                      0\n",
       "Date                       0\n",
       "Time                       0\n",
       "Payment                    0\n",
       "cogs                       0\n",
       "gross margin percentage    0\n",
       "gross income               0\n",
       "Rating                     0\n",
       "dtype: int64"
      ]
     },
     "execution_count": 50,
     "metadata": {},
     "output_type": "execute_result"
    }
   ],
   "source": [
    "df1.isna().sum()"
   ]
  },
  {
   "cell_type": "markdown",
   "id": "8a287f80-aa90-4230-879f-3ed51c52e6fc",
   "metadata": {},
   "source": [
    "## 1.3 Rename columns"
   ]
  },
  {
   "cell_type": "code",
   "execution_count": 44,
   "id": "10c1f4f3-35f0-4674-a112-9863f5587281",
   "metadata": {},
   "outputs": [],
   "source": [
    "list_new_cols = list()\n",
    "for i in list(df1.columns):\n",
    "    x = '_'.join(i.split()).upper()\n",
    "    list_new_cols.append(x)"
   ]
  },
  {
   "cell_type": "code",
   "execution_count": 54,
   "id": "19c6fe82-56b8-40db-9910-17300cbf8745",
   "metadata": {},
   "outputs": [],
   "source": [
    "list_new_cols = ['_'.join(i.split()).upper() for i in list(df1.columns)]"
   ]
  },
  {
   "cell_type": "code",
   "execution_count": 55,
   "id": "05a6b1b2-93f8-4ad5-998c-e1bbc0284098",
   "metadata": {},
   "outputs": [],
   "source": [
    "df1.columns = list_new_cols"
   ]
  },
  {
   "cell_type": "markdown",
   "id": "14f80145-79b2-4d5d-b99a-057028ac25b7",
   "metadata": {},
   "source": [
    "## Type data"
   ]
  },
  {
   "cell_type": "code",
   "execution_count": 56,
   "id": "b08d83cf-cfe9-4ff3-8e43-dbc0672577f0",
   "metadata": {},
   "outputs": [
    {
     "name": "stdout",
     "output_type": "stream",
     "text": [
      "<class 'pandas.core.frame.DataFrame'>\n",
      "RangeIndex: 1000 entries, 0 to 999\n",
      "Data columns (total 17 columns):\n",
      " #   Column                   Non-Null Count  Dtype  \n",
      "---  ------                   --------------  -----  \n",
      " 0   INVOICE_ID               1000 non-null   object \n",
      " 1   BRANCH                   1000 non-null   object \n",
      " 2   CITY                     1000 non-null   object \n",
      " 3   CUSTOMER_TYPE            1000 non-null   object \n",
      " 4   GENDER                   1000 non-null   object \n",
      " 5   PRODUCT_LINE             1000 non-null   object \n",
      " 6   UNIT_PRICE               1000 non-null   float64\n",
      " 7   QUANTITY                 1000 non-null   int64  \n",
      " 8   TAX_5%                   1000 non-null   float64\n",
      " 9   TOTAL                    1000 non-null   float64\n",
      " 10  DATE                     1000 non-null   object \n",
      " 11  TIME                     1000 non-null   object \n",
      " 12  PAYMENT                  1000 non-null   object \n",
      " 13  COGS                     1000 non-null   float64\n",
      " 14  GROSS_MARGIN_PERCENTAGE  1000 non-null   float64\n",
      " 15  GROSS_INCOME             1000 non-null   float64\n",
      " 16  RATING                   1000 non-null   float64\n",
      "dtypes: float64(7), int64(1), object(9)\n",
      "memory usage: 132.9+ KB\n"
     ]
    }
   ],
   "source": [
    "df1.info()"
   ]
  },
  {
   "cell_type": "markdown",
   "id": "5b612607-ab3a-4e01-b779-9d039bef7ef9",
   "metadata": {},
   "source": [
    "## 2.0 EDA (Exploratory Data Analysis)"
   ]
  },
  {
   "cell_type": "code",
   "execution_count": 59,
   "id": "dea64228-8993-4fa5-8e07-2d764feed15c",
   "metadata": {},
   "outputs": [],
   "source": [
    "df2 = df1.copy()"
   ]
  },
  {
   "cell_type": "markdown",
   "id": "56b1e331-7164-4ac8-a61e-afa8890c0478",
   "metadata": {},
   "source": [
    "## 2.1 Univariate Analysis"
   ]
  },
  {
   "cell_type": "markdown",
   "id": "edd14064-558e-496c-8d68-3986d5369914",
   "metadata": {},
   "source": [
    "1. Quantas cidades estão localizado os supermercados?"
   ]
  },
  {
   "cell_type": "code",
   "execution_count": 62,
   "id": "26688c2a-4fa5-4a56-832b-b373e36f269a",
   "metadata": {},
   "outputs": [
    {
     "data": {
      "text/plain": [
       "array(['Yangon', 'Naypyitaw', 'Mandalay'], dtype=object)"
      ]
     },
     "execution_count": 62,
     "metadata": {},
     "output_type": "execute_result"
    }
   ],
   "source": [
    "df2['CITY'].unique()"
   ]
  },
  {
   "cell_type": "markdown",
   "id": "a71e5434-6f89-43b9-b9c8-56146a4c95b6",
   "metadata": {},
   "source": [
    "2. Estamos inseridos em quantas regiões?"
   ]
  },
  {
   "cell_type": "code",
   "execution_count": 61,
   "id": "cb334d37-c365-4bd1-9a86-952793d1aa3e",
   "metadata": {},
   "outputs": [
    {
     "data": {
      "text/plain": [
       "array(['A', 'C', 'B'], dtype=object)"
      ]
     },
     "execution_count": 61,
     "metadata": {},
     "output_type": "execute_result"
    }
   ],
   "source": [
    "df2['BRANCH'].unique()"
   ]
  },
  {
   "cell_type": "code",
   "execution_count": 63,
   "id": "d89bd788-cebf-4ee9-8b54-c238367eea1b",
   "metadata": {},
   "outputs": [
    {
     "data": {
      "text/html": [
       "<div>\n",
       "<style scoped>\n",
       "    .dataframe tbody tr th:only-of-type {\n",
       "        vertical-align: middle;\n",
       "    }\n",
       "\n",
       "    .dataframe tbody tr th {\n",
       "        vertical-align: top;\n",
       "    }\n",
       "\n",
       "    .dataframe thead th {\n",
       "        text-align: right;\n",
       "    }\n",
       "</style>\n",
       "<table border=\"1\" class=\"dataframe\">\n",
       "  <thead>\n",
       "    <tr style=\"text-align: right;\">\n",
       "      <th></th>\n",
       "      <th>CITY</th>\n",
       "      <th>BRANCH</th>\n",
       "    </tr>\n",
       "  </thead>\n",
       "  <tbody>\n",
       "    <tr>\n",
       "      <th>0</th>\n",
       "      <td>Yangon</td>\n",
       "      <td>A</td>\n",
       "    </tr>\n",
       "    <tr>\n",
       "      <th>1</th>\n",
       "      <td>Naypyitaw</td>\n",
       "      <td>C</td>\n",
       "    </tr>\n",
       "    <tr>\n",
       "      <th>9</th>\n",
       "      <td>Mandalay</td>\n",
       "      <td>B</td>\n",
       "    </tr>\n",
       "  </tbody>\n",
       "</table>\n",
       "</div>"
      ],
      "text/plain": [
       "        CITY BRANCH\n",
       "0     Yangon      A\n",
       "1  Naypyitaw      C\n",
       "9   Mandalay      B"
      ]
     },
     "execution_count": 63,
     "metadata": {},
     "output_type": "execute_result"
    }
   ],
   "source": [
    "df2.filter(['CITY','BRANCH']).drop_duplicates()"
   ]
  },
  {
   "cell_type": "markdown",
   "id": "b70e8db5-801c-456f-b1e8-bdd7a9812540",
   "metadata": {},
   "source": [
    "* Distribuição de preço unitário"
   ]
  },
  {
   "cell_type": "code",
   "execution_count": 64,
   "id": "027cd7a6-17de-4929-a0f4-76fc5afb9bd5",
   "metadata": {},
   "outputs": [
    {
     "data": {
      "text/plain": [
       "count    1000.000000\n",
       "mean       55.672130\n",
       "std        26.494628\n",
       "min        10.080000\n",
       "25%        32.875000\n",
       "50%        55.230000\n",
       "75%        77.935000\n",
       "max        99.960000\n",
       "Name: UNIT_PRICE, dtype: float64"
      ]
     },
     "execution_count": 64,
     "metadata": {},
     "output_type": "execute_result"
    }
   ],
   "source": [
    "df2['UNIT_PRICE'].describe()"
   ]
  },
  {
   "cell_type": "code",
   "execution_count": 68,
   "id": "01f4189c-ca39-4363-918b-98d85a1560f2",
   "metadata": {},
   "outputs": [
    {
     "data": {
      "text/plain": [
       "<AxesSubplot:xlabel='UNIT_PRICE', ylabel='Count'>"
      ]
     },
     "execution_count": 68,
     "metadata": {},
     "output_type": "execute_result"
    },
    {
     "data": {
      "image/png": "[encoded data removed]",
      "text/plain": [
       "<Figure size 432x288 with 1 Axes>"
      ]
     },
     "metadata": {
      "needs_background": "light"
     },
     "output_type": "display_data"
    }
   ],
   "source": [
    "sns.histplot(df2['UNIT_PRICE'],bins=20)"
   ]
  },
  {
   "cell_type": "markdown",
   "id": "a206048c-59e7-46a5-bc66-8072e19084f2",
   "metadata": {},
   "source": [
    "* Quantidade de itens vendidos numa mesma transação"
   ]
  },
  {
   "cell_type": "code",
   "execution_count": 70,
   "id": "631a401f-567f-4d0f-9367-968d0058ea61",
   "metadata": {},
   "outputs": [
    {
     "data": {
      "text/plain": [
       "<AxesSubplot:xlabel='QUANTITY', ylabel='Count'>"
      ]
     },
     "execution_count": 70,
     "metadata": {},
     "output_type": "execute_result"
    },
    {
     "data": {
      "image/png": "[encoded data removed]",
      "text/plain": [
       "<Figure size 432x288 with 1 Axes>"
      ]
     },
     "metadata": {
      "needs_background": "light"
     },
     "output_type": "display_data"
    }
   ],
   "source": [
    "sns.histplot(df2['QUANTITY'],bins=20)\n"
   ]
  },
  {
   "cell_type": "code",
   "execution_count": 71,
   "id": "e3f20c58-0a16-4d0f-bc7e-7e60ee8aa079",
   "metadata": {},
   "outputs": [
    {
     "data": {
      "text/plain": [
       "Index(['INVOICE_ID', 'BRANCH', 'CITY', 'CUSTOMER_TYPE', 'GENDER',\n",
       "       'PRODUCT_LINE', 'UNIT_PRICE', 'QUANTITY', 'TAX_5%', 'TOTAL', 'DATE',\n",
       "       'TIME', 'PAYMENT', 'COGS', 'GROSS_MARGIN_PERCENTAGE', 'GROSS_INCOME',\n",
       "       'RATING'],\n",
       "      dtype='object')"
      ]
     },
     "execution_count": 71,
     "metadata": {},
     "output_type": "execute_result"
    }
   ],
   "source": [
    "df2.columns"
   ]
  },
  {
   "cell_type": "code",
   "execution_count": 79,
   "id": "edf6b8b5-e630-4043-857d-c40fa351d9e4",
   "metadata": {},
   "outputs": [
    {
     "name": "stdout",
     "output_type": "stream",
     "text": [
      "0\n",
      "1\n",
      "2\n",
      "3\n"
     ]
    }
   ],
   "source": [
    "for i in range(4):\n",
    "    print(i)"
   ]
  },
  {
   "cell_type": "code",
   "execution_count": 83,
   "id": "41846a59-96d6-4de9-8720-99fdfb86845b",
   "metadata": {},
   "outputs": [
    {
     "data": {
      "image/png": "[encoded data removed]",
      "text/plain": [
       "<Figure size 2160x720 with 8 Axes>"
      ]
     },
     "metadata": {
      "needs_background": "light"
     },
     "output_type": "display_data"
    }
   ],
   "source": [
    "cols_select = ['UNIT_PRICE', 'QUANTITY', 'TAX_5%', 'TOTAL', 'COGS', 'GROSS_MARGIN_PERCENTAGE', 'GROSS_INCOME','RATING']\n",
    "plt.figure(figsize=[30,10])\n",
    "\n",
    "n_cols=4\n",
    "n_rows = 2\n",
    "for i in range(len(cols_select)):\n",
    "    plt.subplot(n_rows,n_cols, i+1)\n",
    "    name_col = cols_select[i]\n",
    "    sns.histplot(df2[name_col],bins=20)\n",
    "    plt.title(name_col)\n"
   ]
  },
  {
   "cell_type": "markdown",
   "id": "4099d01e-5d75-4061-9b68-47d1ce20d2aa",
   "metadata": {
    "jupyter": {
     "source_hidden": true
    }
   },
   "source": [
    "## 2.2 Bivariate Analysis"
   ]
  },
  {
   "cell_type": "code",
   "execution_count": null,
   "id": "c6029bb5-0803-436a-8bdf-b531f64b20d1",
   "metadata": {},
   "outputs": [],
   "source": []
  },
  {
   "cell_type": "markdown",
   "id": "7c329ec7-209b-4bd2-a080-f4b07176b30b",
   "metadata": {},
   "source": [
    "## 2.3 Multivariate Analysis"
   ]
  },
  {
   "cell_type": "code",
   "execution_count": 60,
   "id": "0fe6467a-8219-4b83-8005-bd16bf08fa48",
   "metadata": {},
   "outputs": [
    {
     "data": {
      "text/html": [
       "<div>\n",
       "<style scoped>\n",
       "    .dataframe tbody tr th:only-of-type {\n",
       "        vertical-align: middle;\n",
       "    }\n",
       "\n",
       "    .dataframe tbody tr th {\n",
       "        vertical-align: top;\n",
       "    }\n",
       "\n",
       "    .dataframe thead th {\n",
       "        text-align: right;\n",
       "    }\n",
       "</style>\n",
       "<table border=\"1\" class=\"dataframe\">\n",
       "  <thead>\n",
       "    <tr style=\"text-align: right;\">\n",
       "      <th></th>\n",
       "      <th>INVOICE_ID</th>\n",
       "      <th>BRANCH</th>\n",
       "      <th>CITY</th>\n",
       "      <th>CUSTOMER_TYPE</th>\n",
       "      <th>GENDER</th>\n",
       "      <th>PRODUCT_LINE</th>\n",
       "      <th>UNIT_PRICE</th>\n",
       "      <th>QUANTITY</th>\n",
       "      <th>TAX_5%</th>\n",
       "      <th>TOTAL</th>\n",
       "      <th>DATE</th>\n",
       "      <th>TIME</th>\n",
       "      <th>PAYMENT</th>\n",
       "      <th>COGS</th>\n",
       "      <th>GROSS_MARGIN_PERCENTAGE</th>\n",
       "      <th>GROSS_INCOME</th>\n",
       "      <th>RATING</th>\n",
       "    </tr>\n",
       "  </thead>\n",
       "  <tbody>\n",
       "    <tr>\n",
       "      <th>0</th>\n",
       "      <td>750-67-8428</td>\n",
       "      <td>A</td>\n",
       "      <td>Yangon</td>\n",
       "      <td>Member</td>\n",
       "      <td>Female</td>\n",
       "      <td>Health and beauty</td>\n",
       "      <td>74.69</td>\n",
       "      <td>7</td>\n",
       "      <td>26.1415</td>\n",
       "      <td>548.9715</td>\n",
       "      <td>1/5/2019</td>\n",
       "      <td>13:08</td>\n",
       "      <td>Ewallet</td>\n",
       "      <td>522.83</td>\n",
       "      <td>4.761905</td>\n",
       "      <td>26.1415</td>\n",
       "      <td>9.1</td>\n",
       "    </tr>\n",
       "    <tr>\n",
       "      <th>1</th>\n",
       "      <td>226-31-3081</td>\n",
       "      <td>C</td>\n",
       "      <td>Naypyitaw</td>\n",
       "      <td>Normal</td>\n",
       "      <td>Female</td>\n",
       "      <td>Electronic accessories</td>\n",
       "      <td>15.28</td>\n",
       "      <td>5</td>\n",
       "      <td>3.8200</td>\n",
       "      <td>80.2200</td>\n",
       "      <td>3/8/2019</td>\n",
       "      <td>10:29</td>\n",
       "      <td>Cash</td>\n",
       "      <td>76.40</td>\n",
       "      <td>4.761905</td>\n",
       "      <td>3.8200</td>\n",
       "      <td>9.6</td>\n",
       "    </tr>\n",
       "    <tr>\n",
       "      <th>2</th>\n",
       "      <td>631-41-3108</td>\n",
       "      <td>A</td>\n",
       "      <td>Yangon</td>\n",
       "      <td>Normal</td>\n",
       "      <td>Male</td>\n",
       "      <td>Home and lifestyle</td>\n",
       "      <td>46.33</td>\n",
       "      <td>7</td>\n",
       "      <td>16.2155</td>\n",
       "      <td>340.5255</td>\n",
       "      <td>3/3/2019</td>\n",
       "      <td>13:23</td>\n",
       "      <td>Credit card</td>\n",
       "      <td>324.31</td>\n",
       "      <td>4.761905</td>\n",
       "      <td>16.2155</td>\n",
       "      <td>7.4</td>\n",
       "    </tr>\n",
       "    <tr>\n",
       "      <th>3</th>\n",
       "      <td>123-19-1176</td>\n",
       "      <td>A</td>\n",
       "      <td>Yangon</td>\n",
       "      <td>Member</td>\n",
       "      <td>Male</td>\n",
       "      <td>Health and beauty</td>\n",
       "      <td>58.22</td>\n",
       "      <td>8</td>\n",
       "      <td>23.2880</td>\n",
       "      <td>489.0480</td>\n",
       "      <td>1/27/2019</td>\n",
       "      <td>20:33</td>\n",
       "      <td>Ewallet</td>\n",
       "      <td>465.76</td>\n",
       "      <td>4.761905</td>\n",
       "      <td>23.2880</td>\n",
       "      <td>8.4</td>\n",
       "    </tr>\n",
       "    <tr>\n",
       "      <th>4</th>\n",
       "      <td>373-73-7910</td>\n",
       "      <td>A</td>\n",
       "      <td>Yangon</td>\n",
       "      <td>Normal</td>\n",
       "      <td>Male</td>\n",
       "      <td>Sports and travel</td>\n",
       "      <td>86.31</td>\n",
       "      <td>7</td>\n",
       "      <td>30.2085</td>\n",
       "      <td>634.3785</td>\n",
       "      <td>2/8/2019</td>\n",
       "      <td>10:37</td>\n",
       "      <td>Ewallet</td>\n",
       "      <td>604.17</td>\n",
       "      <td>4.761905</td>\n",
       "      <td>30.2085</td>\n",
       "      <td>5.3</td>\n",
       "    </tr>\n",
       "    <tr>\n",
       "      <th>...</th>\n",
       "      <td>...</td>\n",
       "      <td>...</td>\n",
       "      <td>...</td>\n",
       "      <td>...</td>\n",
       "      <td>...</td>\n",
       "      <td>...</td>\n",
       "      <td>...</td>\n",
       "      <td>...</td>\n",
       "      <td>...</td>\n",
       "      <td>...</td>\n",
       "      <td>...</td>\n",
       "      <td>...</td>\n",
       "      <td>...</td>\n",
       "      <td>...</td>\n",
       "      <td>...</td>\n",
       "      <td>...</td>\n",
       "      <td>...</td>\n",
       "    </tr>\n",
       "    <tr>\n",
       "      <th>995</th>\n",
       "      <td>233-67-5758</td>\n",
       "      <td>C</td>\n",
       "      <td>Naypyitaw</td>\n",
       "      <td>Normal</td>\n",
       "      <td>Male</td>\n",
       "      <td>Health and beauty</td>\n",
       "      <td>40.35</td>\n",
       "      <td>1</td>\n",
       "      <td>2.0175</td>\n",
       "      <td>42.3675</td>\n",
       "      <td>1/29/2019</td>\n",
       "      <td>13:46</td>\n",
       "      <td>Ewallet</td>\n",
       "      <td>40.35</td>\n",
       "      <td>4.761905</td>\n",
       "      <td>2.0175</td>\n",
       "      <td>6.2</td>\n",
       "    </tr>\n",
       "    <tr>\n",
       "      <th>996</th>\n",
       "      <td>303-96-2227</td>\n",
       "      <td>B</td>\n",
       "      <td>Mandalay</td>\n",
       "      <td>Normal</td>\n",
       "      <td>Female</td>\n",
       "      <td>Home and lifestyle</td>\n",
       "      <td>97.38</td>\n",
       "      <td>10</td>\n",
       "      <td>48.6900</td>\n",
       "      <td>1022.4900</td>\n",
       "      <td>3/2/2019</td>\n",
       "      <td>17:16</td>\n",
       "      <td>Ewallet</td>\n",
       "      <td>973.80</td>\n",
       "      <td>4.761905</td>\n",
       "      <td>48.6900</td>\n",
       "      <td>4.4</td>\n",
       "    </tr>\n",
       "    <tr>\n",
       "      <th>997</th>\n",
       "      <td>727-02-1313</td>\n",
       "      <td>A</td>\n",
       "      <td>Yangon</td>\n",
       "      <td>Member</td>\n",
       "      <td>Male</td>\n",
       "      <td>Food and beverages</td>\n",
       "      <td>31.84</td>\n",
       "      <td>1</td>\n",
       "      <td>1.5920</td>\n",
       "      <td>33.4320</td>\n",
       "      <td>2/9/2019</td>\n",
       "      <td>13:22</td>\n",
       "      <td>Cash</td>\n",
       "      <td>31.84</td>\n",
       "      <td>4.761905</td>\n",
       "      <td>1.5920</td>\n",
       "      <td>7.7</td>\n",
       "    </tr>\n",
       "    <tr>\n",
       "      <th>998</th>\n",
       "      <td>347-56-2442</td>\n",
       "      <td>A</td>\n",
       "      <td>Yangon</td>\n",
       "      <td>Normal</td>\n",
       "      <td>Male</td>\n",
       "      <td>Home and lifestyle</td>\n",
       "      <td>65.82</td>\n",
       "      <td>1</td>\n",
       "      <td>3.2910</td>\n",
       "      <td>69.1110</td>\n",
       "      <td>2/22/2019</td>\n",
       "      <td>15:33</td>\n",
       "      <td>Cash</td>\n",
       "      <td>65.82</td>\n",
       "      <td>4.761905</td>\n",
       "      <td>3.2910</td>\n",
       "      <td>4.1</td>\n",
       "    </tr>\n",
       "    <tr>\n",
       "      <th>999</th>\n",
       "      <td>849-09-3807</td>\n",
       "      <td>A</td>\n",
       "      <td>Yangon</td>\n",
       "      <td>Member</td>\n",
       "      <td>Female</td>\n",
       "      <td>Fashion accessories</td>\n",
       "      <td>88.34</td>\n",
       "      <td>7</td>\n",
       "      <td>30.9190</td>\n",
       "      <td>649.2990</td>\n",
       "      <td>2/18/2019</td>\n",
       "      <td>13:28</td>\n",
       "      <td>Cash</td>\n",
       "      <td>618.38</td>\n",
       "      <td>4.761905</td>\n",
       "      <td>30.9190</td>\n",
       "      <td>6.6</td>\n",
       "    </tr>\n",
       "  </tbody>\n",
       "</table>\n",
       "<p>1000 rows × 17 columns</p>\n",
       "</div>"
      ],
      "text/plain": [
       "      INVOICE_ID BRANCH       CITY CUSTOMER_TYPE  GENDER  \\\n",
       "0    750-67-8428      A     Yangon        Member  Female   \n",
       "1    226-31-3081      C  Naypyitaw        Normal  Female   \n",
       "2    631-41-3108      A     Yangon        Normal    Male   \n",
       "3    123-19-1176      A     Yangon        Member    Male   \n",
       "4    373-73-7910      A     Yangon        Normal    Male   \n",
       "..           ...    ...        ...           ...     ...   \n",
       "995  233-67-5758      C  Naypyitaw        Normal    Male   \n",
       "996  303-96-2227      B   Mandalay        Normal  Female   \n",
       "997  727-02-1313      A     Yangon        Member    Male   \n",
       "998  347-56-2442      A     Yangon        Normal    Male   \n",
       "999  849-09-3807      A     Yangon        Member  Female   \n",
       "\n",
       "               PRODUCT_LINE  UNIT_PRICE  QUANTITY   TAX_5%      TOTAL  \\\n",
       "0         Health and beauty       74.69         7  26.1415   548.9715   \n",
       "1    Electronic accessories       15.28         5   3.8200    80.2200   \n",
       "2        Home and lifestyle       46.33         7  16.2155   340.5255   \n",
       "3         Health and beauty       58.22         8  23.2880   489.0480   \n",
       "4         Sports and travel       86.31         7  30.2085   634.3785   \n",
       "..                      ...         ...       ...      ...        ...   \n",
       "995       Health and beauty       40.35         1   2.0175    42.3675   \n",
       "996      Home and lifestyle       97.38        10  48.6900  1022.4900   \n",
       "997      Food and beverages       31.84         1   1.5920    33.4320   \n",
       "998      Home and lifestyle       65.82         1   3.2910    69.1110   \n",
       "999     Fashion accessories       88.34         7  30.9190   649.2990   \n",
       "\n",
       "          DATE   TIME      PAYMENT    COGS  GROSS_MARGIN_PERCENTAGE  \\\n",
       "0     1/5/2019  13:08      Ewallet  522.83                 4.761905   \n",
       "1     3/8/2019  10:29         Cash   76.40                 4.761905   \n",
       "2     3/3/2019  13:23  Credit card  324.31                 4.761905   \n",
       "3    1/27/2019  20:33      Ewallet  465.76                 4.761905   \n",
       "4     2/8/2019  10:37      Ewallet  604.17                 4.761905   \n",
       "..         ...    ...          ...     ...                      ...   \n",
       "995  1/29/2019  13:46      Ewallet   40.35                 4.761905   \n",
       "996   3/2/2019  17:16      Ewallet  973.80                 4.761905   \n",
       "997   2/9/2019  13:22         Cash   31.84                 4.761905   \n",
       "998  2/22/2019  15:33         Cash   65.82                 4.761905   \n",
       "999  2/18/2019  13:28         Cash  618.38                 4.761905   \n",
       "\n",
       "     GROSS_INCOME  RATING  \n",
       "0         26.1415     9.1  \n",
       "1          3.8200     9.6  \n",
       "2         16.2155     7.4  \n",
       "3         23.2880     8.4  \n",
       "4         30.2085     5.3  \n",
       "..            ...     ...  \n",
       "995        2.0175     6.2  \n",
       "996       48.6900     4.4  \n",
       "997        1.5920     7.7  \n",
       "998        3.2910     4.1  \n",
       "999       30.9190     6.6  \n",
       "\n",
       "[1000 rows x 17 columns]"
      ]
     },
     "execution_count": 60,
     "metadata": {},
     "output_type": "execute_result"
    }
   ],
   "source": []
  },
  {
   "cell_type": "code",
   "execution_count": null,
   "id": "d1616eac-091b-4001-9e8d-9d7dd499f384",
   "metadata": {},
   "outputs": [],
   "source": []
  }
 ],
 "metadata": {
  "kernelspec": {
   "display_name": "Python 3",
   "language": "python",
   "name": "python3"
  },
  "language_info": {
   "codemirror_mode": {
    "name": "ipython",
    "version": 3
   },
   "file_extension": ".py",
   "mimetype": "text/x-python",
   "name": "python",
   "nbconvert_exporter": "python",
   "pygments_lexer": "ipython3",
   "version": "3.9.13"
  }
 },
 "nbformat": 4,
 "nbformat_minor": 5
}
